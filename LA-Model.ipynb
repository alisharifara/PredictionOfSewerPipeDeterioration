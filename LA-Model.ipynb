{
 "cells": [
  {
   "cell_type": "code",
   "execution_count": 143,
   "metadata": {},
   "outputs": [],
   "source": [
    "%matplotlib inline \n",
    "import pandas as pd\n",
    "import numpy as np\n",
    "import warnings\n",
    "import matplotlib.pyplot as plt\n",
    "\n",
    "########\n",
    "from sklearn import preprocessing\n",
    "from sklearn.linear_model import LogisticRegression\n",
    "from sklearn.neighbors import KNeighborsClassifier\n",
    "from sklearn.model_selection import cross_val_score\n",
    "\n",
    "warnings.filterwarnings('ignore')\n",
    "plt.style.use('seaborn-whitegrid')"
   ]
  },
  {
   "cell_type": "code",
   "execution_count": 144,
   "metadata": {},
   "outputs": [
    {
     "data": {
      "text/html": [
       "<div>\n",
       "<style scoped>\n",
       "    .dataframe tbody tr th:only-of-type {\n",
       "        vertical-align: middle;\n",
       "    }\n",
       "\n",
       "    .dataframe tbody tr th {\n",
       "        vertical-align: top;\n",
       "    }\n",
       "\n",
       "    .dataframe thead th {\n",
       "        text-align: right;\n",
       "    }\n",
       "</style>\n",
       "<table border=\"1\" class=\"dataframe\">\n",
       "  <thead>\n",
       "    <tr style=\"text-align: right;\">\n",
       "      <th></th>\n",
       "      <th>UP_INV</th>\n",
       "      <th>DN_INV</th>\n",
       "      <th>PIPE_LENG</th>\n",
       "      <th>SLOPE_PCT</th>\n",
       "      <th>PIPE_SIZE</th>\n",
       "      <th>PIPE_MAT</th>\n",
       "      <th>REHAB</th>\n",
       "      <th>YEAR_INST</th>\n",
       "      <th>PIPE_STATUS</th>\n",
       "    </tr>\n",
       "  </thead>\n",
       "  <tbody>\n",
       "    <tr>\n",
       "      <th>15186</th>\n",
       "      <td>919.02</td>\n",
       "      <td>895.11</td>\n",
       "      <td>265.00</td>\n",
       "      <td>0.0916</td>\n",
       "      <td>8.0</td>\n",
       "      <td>UNK</td>\n",
       "      <td>No</td>\n",
       "      <td>1957</td>\n",
       "      <td>F</td>\n",
       "    </tr>\n",
       "    <tr>\n",
       "      <th>100523</th>\n",
       "      <td>231.61</td>\n",
       "      <td>230.62</td>\n",
       "      <td>321.00</td>\n",
       "      <td>0.0033</td>\n",
       "      <td>22.0</td>\n",
       "      <td>VCP</td>\n",
       "      <td>No</td>\n",
       "      <td>1894</td>\n",
       "      <td>F</td>\n",
       "    </tr>\n",
       "    <tr>\n",
       "      <th>10598</th>\n",
       "      <td>747.28</td>\n",
       "      <td>739.89</td>\n",
       "      <td>201.60</td>\n",
       "      <td>0.0374</td>\n",
       "      <td>8.0</td>\n",
       "      <td>CON</td>\n",
       "      <td>Yes</td>\n",
       "      <td>1930</td>\n",
       "      <td>F</td>\n",
       "    </tr>\n",
       "    <tr>\n",
       "      <th>12041</th>\n",
       "      <td>326.12</td>\n",
       "      <td>324.40</td>\n",
       "      <td>220.04</td>\n",
       "      <td>0.0080</td>\n",
       "      <td>14.0</td>\n",
       "      <td>VCP</td>\n",
       "      <td>No</td>\n",
       "      <td>1928</td>\n",
       "      <td>F</td>\n",
       "    </tr>\n",
       "    <tr>\n",
       "      <th>75344</th>\n",
       "      <td>785.86</td>\n",
       "      <td>784.45</td>\n",
       "      <td>325.00</td>\n",
       "      <td>0.0040</td>\n",
       "      <td>8.0</td>\n",
       "      <td>VCP</td>\n",
       "      <td>No</td>\n",
       "      <td>1972</td>\n",
       "      <td>F</td>\n",
       "    </tr>\n",
       "  </tbody>\n",
       "</table>\n",
       "</div>"
      ],
      "text/plain": [
       "        UP_INV  DN_INV  PIPE_LENG  SLOPE_PCT  PIPE_SIZE PIPE_MAT REHAB  \\\n",
       "15186   919.02  895.11     265.00     0.0916        8.0      UNK    No   \n",
       "100523  231.61  230.62     321.00     0.0033       22.0      VCP    No   \n",
       "10598   747.28  739.89     201.60     0.0374        8.0      CON   Yes   \n",
       "12041   326.12  324.40     220.04     0.0080       14.0      VCP    No   \n",
       "75344   785.86  784.45     325.00     0.0040        8.0      VCP    No   \n",
       "\n",
       "       YEAR_INST PIPE_STATUS  \n",
       "15186       1957           F  \n",
       "100523      1894           F  \n",
       "10598       1930           F  \n",
       "12041       1928           F  \n",
       "75344       1972           F  "
      ]
     },
     "execution_count": 144,
     "metadata": {},
     "output_type": "execute_result"
    }
   ],
   "source": [
    "LA_data_df = pd.read_csv('LA.csv', na_values=[' ','Nan','nan',''])\n",
    "LA_data_df.drop(['PIPE_SHAPE','OBJECTID'],axis=1, inplace=True)\n",
    "LA_data_df.sample(5)"
   ]
  },
  {
   "cell_type": "code",
   "execution_count": 145,
   "metadata": {},
   "outputs": [
    {
     "data": {
      "text/plain": [
       "UP_INV          768\n",
       "DN_INV          707\n",
       "PIPE_LENG        20\n",
       "SLOPE_PCT       486\n",
       "PIPE_SIZE        37\n",
       "PIPE_MAT         90\n",
       "REHAB           703\n",
       "YEAR_INST      1818\n",
       "PIPE_STATUS       7\n",
       "dtype: int64"
      ]
     },
     "execution_count": 145,
     "metadata": {},
     "output_type": "execute_result"
    }
   ],
   "source": [
    "LA_data_df.isnull().sum()"
   ]
  },
  {
   "cell_type": "code",
   "execution_count": 146,
   "metadata": {},
   "outputs": [
    {
     "data": {
      "text/plain": [
       "(160902, 9)"
      ]
     },
     "execution_count": 146,
     "metadata": {},
     "output_type": "execute_result"
    }
   ],
   "source": [
    "LA_data_df.shape"
   ]
  },
  {
   "cell_type": "code",
   "execution_count": 147,
   "metadata": {},
   "outputs": [
    {
     "data": {
      "text/plain": [
       "VCP     133701\n",
       "CON      14884\n",
       "UNK       5782\n",
       "RCP       2035\n",
       "PVC       1308\n",
       "CIP        915\n",
       "B/C        791\n",
       "DIP        584\n",
       "HDPE       255\n",
       "ABS        225\n",
       "GFR        115\n",
       "STL         98\n",
       "ACP         53\n",
       "PCP         33\n",
       "PEP         15\n",
       "CMP          6\n",
       "TRS          4\n",
       "CIPC         4\n",
       "TCP          2\n",
       "RCPL         2\n",
       "Name: PIPE_MAT, dtype: int64"
      ]
     },
     "execution_count": 147,
     "metadata": {},
     "output_type": "execute_result"
    }
   ],
   "source": [
    "LA_data_df['PIPE_MAT'].value_counts()"
   ]
  },
  {
   "cell_type": "code",
   "execution_count": 148,
   "metadata": {},
   "outputs": [],
   "source": [
    "import seaborn as sns\n",
    "#sns.swarmplot(x='PIPE_MAT', y='PIPE_LENG', data=LA_data_df)\n",
    "#plt.show();"
   ]
  },
  {
   "cell_type": "code",
   "execution_count": 149,
   "metadata": {},
   "outputs": [
    {
     "data": {
      "text/html": [
       "<div>\n",
       "<style scoped>\n",
       "    .dataframe tbody tr th:only-of-type {\n",
       "        vertical-align: middle;\n",
       "    }\n",
       "\n",
       "    .dataframe tbody tr th {\n",
       "        vertical-align: top;\n",
       "    }\n",
       "\n",
       "    .dataframe thead th {\n",
       "        text-align: right;\n",
       "    }\n",
       "</style>\n",
       "<table border=\"1\" class=\"dataframe\">\n",
       "  <thead>\n",
       "    <tr style=\"text-align: right;\">\n",
       "      <th></th>\n",
       "      <th>UP_INV</th>\n",
       "      <th>DN_INV</th>\n",
       "      <th>PIPE_LENG</th>\n",
       "      <th>SLOPE_PCT</th>\n",
       "      <th>PIPE_SIZE</th>\n",
       "      <th>PIPE_MAT</th>\n",
       "      <th>REHAB</th>\n",
       "      <th>YEAR_INST</th>\n",
       "      <th>PIPE_STATUS</th>\n",
       "    </tr>\n",
       "  </thead>\n",
       "  <tbody>\n",
       "    <tr>\n",
       "      <th>132816</th>\n",
       "      <td>689.59</td>\n",
       "      <td>686.98</td>\n",
       "      <td>330.20</td>\n",
       "      <td>0.0080</td>\n",
       "      <td>15.0</td>\n",
       "      <td>VCP</td>\n",
       "      <td>No</td>\n",
       "      <td>1930</td>\n",
       "      <td>F</td>\n",
       "    </tr>\n",
       "    <tr>\n",
       "      <th>145093</th>\n",
       "      <td>9.98</td>\n",
       "      <td>9.00</td>\n",
       "      <td>122.00</td>\n",
       "      <td>0.0081</td>\n",
       "      <td>8.0</td>\n",
       "      <td>VCP</td>\n",
       "      <td>No</td>\n",
       "      <td>2010</td>\n",
       "      <td>F</td>\n",
       "    </tr>\n",
       "    <tr>\n",
       "      <th>54902</th>\n",
       "      <td>462.58</td>\n",
       "      <td>461.84</td>\n",
       "      <td>40.30</td>\n",
       "      <td>0.0184</td>\n",
       "      <td>8.0</td>\n",
       "      <td>VCP</td>\n",
       "      <td>No</td>\n",
       "      <td>1924</td>\n",
       "      <td>F</td>\n",
       "    </tr>\n",
       "    <tr>\n",
       "      <th>97200</th>\n",
       "      <td>664.97</td>\n",
       "      <td>664.45</td>\n",
       "      <td>91.04</td>\n",
       "      <td>0.0040</td>\n",
       "      <td>8.0</td>\n",
       "      <td>VCP</td>\n",
       "      <td>No</td>\n",
       "      <td>1950</td>\n",
       "      <td>F</td>\n",
       "    </tr>\n",
       "    <tr>\n",
       "      <th>86015</th>\n",
       "      <td>123.40</td>\n",
       "      <td>115.21</td>\n",
       "      <td>2868.69</td>\n",
       "      <td>0.0028</td>\n",
       "      <td>132.0</td>\n",
       "      <td>RCP</td>\n",
       "      <td>No</td>\n",
       "      <td>2005</td>\n",
       "      <td>F</td>\n",
       "    </tr>\n",
       "    <tr>\n",
       "      <th>29126</th>\n",
       "      <td>98.44</td>\n",
       "      <td>95.83</td>\n",
       "      <td>120.50</td>\n",
       "      <td>0.0176</td>\n",
       "      <td>15.0</td>\n",
       "      <td>CON</td>\n",
       "      <td>No</td>\n",
       "      <td>1927</td>\n",
       "      <td>F</td>\n",
       "    </tr>\n",
       "    <tr>\n",
       "      <th>75036</th>\n",
       "      <td>777.90</td>\n",
       "      <td>777.47</td>\n",
       "      <td>169.60</td>\n",
       "      <td>0.1500</td>\n",
       "      <td>18.0</td>\n",
       "      <td>VCP</td>\n",
       "      <td>No</td>\n",
       "      <td>1960</td>\n",
       "      <td>S</td>\n",
       "    </tr>\n",
       "    <tr>\n",
       "      <th>134577</th>\n",
       "      <td>168.82</td>\n",
       "      <td>163.34</td>\n",
       "      <td>330.10</td>\n",
       "      <td>0.0168</td>\n",
       "      <td>8.0</td>\n",
       "      <td>CON</td>\n",
       "      <td>No</td>\n",
       "      <td>1925</td>\n",
       "      <td>F</td>\n",
       "    </tr>\n",
       "    <tr>\n",
       "      <th>80988</th>\n",
       "      <td>145.67</td>\n",
       "      <td>144.49</td>\n",
       "      <td>295.00</td>\n",
       "      <td>0.0040</td>\n",
       "      <td>8.0</td>\n",
       "      <td>VCP</td>\n",
       "      <td>No</td>\n",
       "      <td>1927</td>\n",
       "      <td>F</td>\n",
       "    </tr>\n",
       "    <tr>\n",
       "      <th>984</th>\n",
       "      <td>996.70</td>\n",
       "      <td>994.20</td>\n",
       "      <td>159.65</td>\n",
       "      <td>0.0162</td>\n",
       "      <td>8.0</td>\n",
       "      <td>VCP</td>\n",
       "      <td>No</td>\n",
       "      <td>1967</td>\n",
       "      <td>F</td>\n",
       "    </tr>\n",
       "  </tbody>\n",
       "</table>\n",
       "</div>"
      ],
      "text/plain": [
       "        UP_INV  DN_INV  PIPE_LENG  SLOPE_PCT  PIPE_SIZE PIPE_MAT REHAB  \\\n",
       "132816  689.59  686.98     330.20     0.0080       15.0      VCP    No   \n",
       "145093    9.98    9.00     122.00     0.0081        8.0      VCP    No   \n",
       "54902   462.58  461.84      40.30     0.0184        8.0      VCP    No   \n",
       "97200   664.97  664.45      91.04     0.0040        8.0      VCP    No   \n",
       "86015   123.40  115.21    2868.69     0.0028      132.0      RCP    No   \n",
       "29126    98.44   95.83     120.50     0.0176       15.0      CON    No   \n",
       "75036   777.90  777.47     169.60     0.1500       18.0      VCP    No   \n",
       "134577  168.82  163.34     330.10     0.0168        8.0      CON    No   \n",
       "80988   145.67  144.49     295.00     0.0040        8.0      VCP    No   \n",
       "984     996.70  994.20     159.65     0.0162        8.0      VCP    No   \n",
       "\n",
       "       YEAR_INST PIPE_STATUS  \n",
       "132816      1930           F  \n",
       "145093      2010           F  \n",
       "54902       1924           F  \n",
       "97200       1950           F  \n",
       "86015       2005           F  \n",
       "29126       1927           F  \n",
       "75036       1960           S  \n",
       "134577      1925           F  \n",
       "80988       1927           F  \n",
       "984         1967           F  "
      ]
     },
     "execution_count": 149,
     "metadata": {},
     "output_type": "execute_result"
    }
   ],
   "source": [
    "LA_data_df = LA_data_df.dropna(axis=0)\n",
    "LA_data_df.sample(10)"
   ]
  },
  {
   "cell_type": "code",
   "execution_count": 150,
   "metadata": {},
   "outputs": [
    {
     "data": {
      "text/plain": [
       "(157422, 9)"
      ]
     },
     "execution_count": 150,
     "metadata": {},
     "output_type": "execute_result"
    }
   ],
   "source": [
    "LA_data_df.shape"
   ]
  },
  {
   "cell_type": "code",
   "execution_count": 42,
   "metadata": {},
   "outputs": [],
   "source": [
    "#LA_data_df['YEAR_INST'].value_counts()"
   ]
  },
  {
   "cell_type": "code",
   "execution_count": 151,
   "metadata": {},
   "outputs": [],
   "source": [
    "LA_data_df = LA_data_df[pd.to_numeric(LA_data_df['YEAR_INST'], errors='coerce').notnull()]"
   ]
  },
  {
   "cell_type": "code",
   "execution_count": 152,
   "metadata": {},
   "outputs": [],
   "source": [
    "LA_data_df[\"YEAR_INST\"] = pd.to_numeric(LA_data_df[\"YEAR_INST\"])"
   ]
  },
  {
   "cell_type": "code",
   "execution_count": 153,
   "metadata": {},
   "outputs": [],
   "source": [
    "LA_data_df = LA_data_df[LA_data_df['YEAR_INST'] > 1000]  "
   ]
  },
  {
   "cell_type": "code",
   "execution_count": 154,
   "metadata": {},
   "outputs": [
    {
     "data": {
      "image/png": "[encoded data removed]",
      "text/plain": [
       "<Figure size 432x288 with 1 Axes>"
      ]
     },
     "metadata": {},
     "output_type": "display_data"
    }
   ],
   "source": [
    "plt.hist(LA_data_df['YEAR_INST']);"
   ]
  },
  {
   "cell_type": "code",
   "execution_count": 155,
   "metadata": {},
   "outputs": [
    {
     "data": {
      "text/plain": [
       "UP_INV         0\n",
       "DN_INV         0\n",
       "PIPE_LENG      0\n",
       "SLOPE_PCT      0\n",
       "PIPE_SIZE      0\n",
       "PIPE_MAT       0\n",
       "REHAB          0\n",
       "YEAR_INST      0\n",
       "PIPE_STATUS    0\n",
       "dtype: int64"
      ]
     },
     "execution_count": 155,
     "metadata": {},
     "output_type": "execute_result"
    }
   ],
   "source": [
    "LA_data_df.isnull().sum()"
   ]
  },
  {
   "cell_type": "code",
   "execution_count": 156,
   "metadata": {},
   "outputs": [
    {
     "data": {
      "text/plain": [
       "<matplotlib.axes._subplots.AxesSubplot at 0x119722e80>"
      ]
     },
     "execution_count": 156,
     "metadata": {},
     "output_type": "execute_result"
    },
    {
     "data": {
      "image/png": "[encoded data removed]",
      "text/plain": [
       "<Figure size 432x288 with 1 Axes>"
      ]
     },
     "metadata": {},
     "output_type": "display_data"
    }
   ],
   "source": [
    "import seaborn as sns\n",
    "sns.boxplot(x=LA_data_df['YEAR_INST'])"
   ]
  },
  {
   "cell_type": "code",
   "execution_count": 157,
   "metadata": {},
   "outputs": [
    {
     "data": {
      "image/png": "[encoded data removed]",
      "text/plain": [
       "<Figure size 432x288 with 6 Axes>"
      ]
     },
     "metadata": {},
     "output_type": "display_data"
    }
   ],
   "source": [
    "hist = LA_data_df.hist(bins=3)"
   ]
  },
  {
   "cell_type": "code",
   "execution_count": 158,
   "metadata": {},
   "outputs": [
    {
     "data": {
      "text/html": [
       "<div>\n",
       "<style scoped>\n",
       "    .dataframe tbody tr th:only-of-type {\n",
       "        vertical-align: middle;\n",
       "    }\n",
       "\n",
       "    .dataframe tbody tr th {\n",
       "        vertical-align: top;\n",
       "    }\n",
       "\n",
       "    .dataframe thead th {\n",
       "        text-align: right;\n",
       "    }\n",
       "</style>\n",
       "<table border=\"1\" class=\"dataframe\">\n",
       "  <thead>\n",
       "    <tr style=\"text-align: right;\">\n",
       "      <th></th>\n",
       "      <th>UP_INV</th>\n",
       "      <th>DN_INV</th>\n",
       "      <th>PIPE_LENG</th>\n",
       "      <th>SLOPE_PCT</th>\n",
       "      <th>PIPE_SIZE</th>\n",
       "      <th>YEAR_INST</th>\n",
       "    </tr>\n",
       "  </thead>\n",
       "  <tbody>\n",
       "    <tr>\n",
       "      <th>count</th>\n",
       "      <td>1.565100e+05</td>\n",
       "      <td>156510.000000</td>\n",
       "      <td>156510.000000</td>\n",
       "      <td>156510.000000</td>\n",
       "      <td>156510.000000</td>\n",
       "      <td>156510.000000</td>\n",
       "    </tr>\n",
       "    <tr>\n",
       "      <th>mean</th>\n",
       "      <td>5.388799e+02</td>\n",
       "      <td>523.350792</td>\n",
       "      <td>228.788637</td>\n",
       "      <td>-0.371606</td>\n",
       "      <td>10.215143</td>\n",
       "      <td>1947.904485</td>\n",
       "    </tr>\n",
       "    <tr>\n",
       "      <th>std</th>\n",
       "      <td>4.105524e+03</td>\n",
       "      <td>1688.467515</td>\n",
       "      <td>160.713734</td>\n",
       "      <td>6.320430</td>\n",
       "      <td>8.572656</td>\n",
       "      <td>25.436795</td>\n",
       "    </tr>\n",
       "    <tr>\n",
       "      <th>min</th>\n",
       "      <td>-1.436600e+02</td>\n",
       "      <td>-141.360000</td>\n",
       "      <td>-2464.700000</td>\n",
       "      <td>-99.000000</td>\n",
       "      <td>0.000000</td>\n",
       "      <td>1625.000000</td>\n",
       "    </tr>\n",
       "    <tr>\n",
       "      <th>25%</th>\n",
       "      <td>1.586425e+02</td>\n",
       "      <td>161.030000</td>\n",
       "      <td>134.400000</td>\n",
       "      <td>0.004000</td>\n",
       "      <td>8.000000</td>\n",
       "      <td>1927.000000</td>\n",
       "    </tr>\n",
       "    <tr>\n",
       "      <th>50%</th>\n",
       "      <td>4.944300e+02</td>\n",
       "      <td>494.440000</td>\n",
       "      <td>245.000000</td>\n",
       "      <td>0.007200</td>\n",
       "      <td>8.000000</td>\n",
       "      <td>1951.000000</td>\n",
       "    </tr>\n",
       "    <tr>\n",
       "      <th>75%</th>\n",
       "      <td>8.050000e+02</td>\n",
       "      <td>803.207500</td>\n",
       "      <td>318.600000</td>\n",
       "      <td>0.025200</td>\n",
       "      <td>8.000000</td>\n",
       "      <td>1962.000000</td>\n",
       "    </tr>\n",
       "    <tr>\n",
       "      <th>max</th>\n",
       "      <td>1.071084e+06</td>\n",
       "      <td>649046.000000</td>\n",
       "      <td>14171.000000</td>\n",
       "      <td>137.600000</td>\n",
       "      <td>150.000000</td>\n",
       "      <td>2301.000000</td>\n",
       "    </tr>\n",
       "  </tbody>\n",
       "</table>\n",
       "</div>"
      ],
      "text/plain": [
       "             UP_INV         DN_INV      PIPE_LENG      SLOPE_PCT  \\\n",
       "count  1.565100e+05  156510.000000  156510.000000  156510.000000   \n",
       "mean   5.388799e+02     523.350792     228.788637      -0.371606   \n",
       "std    4.105524e+03    1688.467515     160.713734       6.320430   \n",
       "min   -1.436600e+02    -141.360000   -2464.700000     -99.000000   \n",
       "25%    1.586425e+02     161.030000     134.400000       0.004000   \n",
       "50%    4.944300e+02     494.440000     245.000000       0.007200   \n",
       "75%    8.050000e+02     803.207500     318.600000       0.025200   \n",
       "max    1.071084e+06  649046.000000   14171.000000     137.600000   \n",
       "\n",
       "           PIPE_SIZE      YEAR_INST  \n",
       "count  156510.000000  156510.000000  \n",
       "mean       10.215143    1947.904485  \n",
       "std         8.572656      25.436795  \n",
       "min         0.000000    1625.000000  \n",
       "25%         8.000000    1927.000000  \n",
       "50%         8.000000    1951.000000  \n",
       "75%         8.000000    1962.000000  \n",
       "max       150.000000    2301.000000  "
      ]
     },
     "execution_count": 158,
     "metadata": {},
     "output_type": "execute_result"
    }
   ],
   "source": [
    "LA_data_df.describe()"
   ]
  },
  {
   "cell_type": "code",
   "execution_count": 159,
   "metadata": {},
   "outputs": [
    {
     "data": {
      "text/plain": [
       "(156510, 9)"
      ]
     },
     "execution_count": 159,
     "metadata": {},
     "output_type": "execute_result"
    }
   ],
   "source": [
    "LA_data_df.shape"
   ]
  },
  {
   "cell_type": "code",
   "execution_count": 160,
   "metadata": {},
   "outputs": [
    {
     "data": {
      "image/png": "[encoded data removed]",
      "text/plain": [
       "<Figure size 432x288 with 1 Axes>"
      ]
     },
     "metadata": {},
     "output_type": "display_data"
    }
   ],
   "source": [
    "plt.hist(LA_data_df.DN_INV);"
   ]
  },
  {
   "cell_type": "code",
   "execution_count": 161,
   "metadata": {},
   "outputs": [
    {
     "name": "stdout",
     "output_type": "stream",
     "text": [
      "<class 'pandas.core.frame.DataFrame'>\n",
      "Int64Index: 156510 entries, 0 to 160901\n",
      "Data columns (total 9 columns):\n",
      "UP_INV         156510 non-null float64\n",
      "DN_INV         156510 non-null float64\n",
      "PIPE_LENG      156510 non-null float64\n",
      "SLOPE_PCT      156510 non-null float64\n",
      "PIPE_SIZE      156510 non-null float64\n",
      "PIPE_MAT       156510 non-null object\n",
      "REHAB          156510 non-null object\n",
      "YEAR_INST      156510 non-null float64\n",
      "PIPE_STATUS    156510 non-null object\n",
      "dtypes: float64(6), object(3)\n",
      "memory usage: 11.9+ MB\n"
     ]
    }
   ],
   "source": [
    "LA_data_df.info()"
   ]
  },
  {
   "cell_type": "code",
   "execution_count": 105,
   "metadata": {},
   "outputs": [
    {
     "data": {
      "text/html": [
       "<div>\n",
       "<style scoped>\n",
       "    .dataframe tbody tr th:only-of-type {\n",
       "        vertical-align: middle;\n",
       "    }\n",
       "\n",
       "    .dataframe tbody tr th {\n",
       "        vertical-align: top;\n",
       "    }\n",
       "\n",
       "    .dataframe thead th {\n",
       "        text-align: right;\n",
       "    }\n",
       "</style>\n",
       "<table border=\"1\" class=\"dataframe\">\n",
       "  <thead>\n",
       "    <tr style=\"text-align: right;\">\n",
       "      <th></th>\n",
       "      <th>UP_INV</th>\n",
       "      <th>DN_INV</th>\n",
       "      <th>PIPE_LENG</th>\n",
       "      <th>SLOPE_PCT</th>\n",
       "      <th>PIPE_SIZE</th>\n",
       "      <th>YEAR_INST</th>\n",
       "    </tr>\n",
       "  </thead>\n",
       "  <tbody>\n",
       "    <tr>\n",
       "      <th>count</th>\n",
       "      <td>1.565100e+05</td>\n",
       "      <td>156510.000000</td>\n",
       "      <td>156510.000000</td>\n",
       "      <td>156510.000000</td>\n",
       "      <td>156510.000000</td>\n",
       "      <td>156510.000000</td>\n",
       "    </tr>\n",
       "    <tr>\n",
       "      <th>mean</th>\n",
       "      <td>5.388799e+02</td>\n",
       "      <td>523.350792</td>\n",
       "      <td>228.788637</td>\n",
       "      <td>-0.371606</td>\n",
       "      <td>10.215143</td>\n",
       "      <td>1947.904485</td>\n",
       "    </tr>\n",
       "    <tr>\n",
       "      <th>std</th>\n",
       "      <td>4.105524e+03</td>\n",
       "      <td>1688.467515</td>\n",
       "      <td>160.713734</td>\n",
       "      <td>6.320430</td>\n",
       "      <td>8.572656</td>\n",
       "      <td>25.436795</td>\n",
       "    </tr>\n",
       "    <tr>\n",
       "      <th>min</th>\n",
       "      <td>-1.436600e+02</td>\n",
       "      <td>-141.360000</td>\n",
       "      <td>-2464.700000</td>\n",
       "      <td>-99.000000</td>\n",
       "      <td>0.000000</td>\n",
       "      <td>1625.000000</td>\n",
       "    </tr>\n",
       "    <tr>\n",
       "      <th>25%</th>\n",
       "      <td>1.586425e+02</td>\n",
       "      <td>161.030000</td>\n",
       "      <td>134.400000</td>\n",
       "      <td>0.004000</td>\n",
       "      <td>8.000000</td>\n",
       "      <td>1927.000000</td>\n",
       "    </tr>\n",
       "    <tr>\n",
       "      <th>50%</th>\n",
       "      <td>4.944300e+02</td>\n",
       "      <td>494.440000</td>\n",
       "      <td>245.000000</td>\n",
       "      <td>0.007200</td>\n",
       "      <td>8.000000</td>\n",
       "      <td>1951.000000</td>\n",
       "    </tr>\n",
       "    <tr>\n",
       "      <th>75%</th>\n",
       "      <td>8.050000e+02</td>\n",
       "      <td>803.207500</td>\n",
       "      <td>318.600000</td>\n",
       "      <td>0.025200</td>\n",
       "      <td>8.000000</td>\n",
       "      <td>1962.000000</td>\n",
       "    </tr>\n",
       "    <tr>\n",
       "      <th>max</th>\n",
       "      <td>1.071084e+06</td>\n",
       "      <td>649046.000000</td>\n",
       "      <td>14171.000000</td>\n",
       "      <td>137.600000</td>\n",
       "      <td>150.000000</td>\n",
       "      <td>2301.000000</td>\n",
       "    </tr>\n",
       "  </tbody>\n",
       "</table>\n",
       "</div>"
      ],
      "text/plain": [
       "             UP_INV         DN_INV      PIPE_LENG      SLOPE_PCT  \\\n",
       "count  1.565100e+05  156510.000000  156510.000000  156510.000000   \n",
       "mean   5.388799e+02     523.350792     228.788637      -0.371606   \n",
       "std    4.105524e+03    1688.467515     160.713734       6.320430   \n",
       "min   -1.436600e+02    -141.360000   -2464.700000     -99.000000   \n",
       "25%    1.586425e+02     161.030000     134.400000       0.004000   \n",
       "50%    4.944300e+02     494.440000     245.000000       0.007200   \n",
       "75%    8.050000e+02     803.207500     318.600000       0.025200   \n",
       "max    1.071084e+06  649046.000000   14171.000000     137.600000   \n",
       "\n",
       "           PIPE_SIZE      YEAR_INST  \n",
       "count  156510.000000  156510.000000  \n",
       "mean       10.215143    1947.904485  \n",
       "std         8.572656      25.436795  \n",
       "min         0.000000    1625.000000  \n",
       "25%         8.000000    1927.000000  \n",
       "50%         8.000000    1951.000000  \n",
       "75%         8.000000    1962.000000  \n",
       "max       150.000000    2301.000000  "
      ]
     },
     "execution_count": 105,
     "metadata": {},
     "output_type": "execute_result"
    }
   ],
   "source": [
    "LA_data_df.describe()"
   ]
  },
  {
   "cell_type": "code",
   "execution_count": 162,
   "metadata": {},
   "outputs": [
    {
     "data": {
      "text/html": [
       "<div>\n",
       "<style scoped>\n",
       "    .dataframe tbody tr th:only-of-type {\n",
       "        vertical-align: middle;\n",
       "    }\n",
       "\n",
       "    .dataframe tbody tr th {\n",
       "        vertical-align: top;\n",
       "    }\n",
       "\n",
       "    .dataframe thead th {\n",
       "        text-align: right;\n",
       "    }\n",
       "</style>\n",
       "<table border=\"1\" class=\"dataframe\">\n",
       "  <thead>\n",
       "    <tr style=\"text-align: right;\">\n",
       "      <th></th>\n",
       "      <th>UP_INV</th>\n",
       "      <th>DN_INV</th>\n",
       "      <th>PIPE_LENG</th>\n",
       "      <th>SLOPE_PCT</th>\n",
       "      <th>PIPE_SIZE</th>\n",
       "      <th>REHAB</th>\n",
       "      <th>YEAR_INST</th>\n",
       "      <th>PIPE_STATUS</th>\n",
       "      <th>PIPE_MAT_ABS</th>\n",
       "      <th>PIPE_MAT_ACP</th>\n",
       "      <th>...</th>\n",
       "      <th>PIPE_MAT_PCP</th>\n",
       "      <th>PIPE_MAT_PEP</th>\n",
       "      <th>PIPE_MAT_PVC</th>\n",
       "      <th>PIPE_MAT_RCP</th>\n",
       "      <th>PIPE_MAT_RCPL</th>\n",
       "      <th>PIPE_MAT_STL</th>\n",
       "      <th>PIPE_MAT_TCP</th>\n",
       "      <th>PIPE_MAT_TRS</th>\n",
       "      <th>PIPE_MAT_UNK</th>\n",
       "      <th>PIPE_MAT_VCP</th>\n",
       "    </tr>\n",
       "  </thead>\n",
       "  <tbody>\n",
       "    <tr>\n",
       "      <th>0</th>\n",
       "      <td>88.11</td>\n",
       "      <td>70.38</td>\n",
       "      <td>345.00</td>\n",
       "      <td>0.0520</td>\n",
       "      <td>8.0</td>\n",
       "      <td>No</td>\n",
       "      <td>1916.0</td>\n",
       "      <td>F</td>\n",
       "      <td>0</td>\n",
       "      <td>0</td>\n",
       "      <td>...</td>\n",
       "      <td>0</td>\n",
       "      <td>0</td>\n",
       "      <td>0</td>\n",
       "      <td>0</td>\n",
       "      <td>0</td>\n",
       "      <td>0</td>\n",
       "      <td>0</td>\n",
       "      <td>0</td>\n",
       "      <td>0</td>\n",
       "      <td>1</td>\n",
       "    </tr>\n",
       "    <tr>\n",
       "      <th>1</th>\n",
       "      <td>126.81</td>\n",
       "      <td>116.41</td>\n",
       "      <td>230.00</td>\n",
       "      <td>0.0460</td>\n",
       "      <td>8.0</td>\n",
       "      <td>Yes</td>\n",
       "      <td>1916.0</td>\n",
       "      <td>F</td>\n",
       "      <td>0</td>\n",
       "      <td>0</td>\n",
       "      <td>...</td>\n",
       "      <td>0</td>\n",
       "      <td>0</td>\n",
       "      <td>0</td>\n",
       "      <td>0</td>\n",
       "      <td>0</td>\n",
       "      <td>0</td>\n",
       "      <td>0</td>\n",
       "      <td>0</td>\n",
       "      <td>0</td>\n",
       "      <td>1</td>\n",
       "    </tr>\n",
       "    <tr>\n",
       "      <th>2</th>\n",
       "      <td>180.94</td>\n",
       "      <td>145.06</td>\n",
       "      <td>345.05</td>\n",
       "      <td>0.1052</td>\n",
       "      <td>8.0</td>\n",
       "      <td>No</td>\n",
       "      <td>1917.0</td>\n",
       "      <td>F</td>\n",
       "      <td>0</td>\n",
       "      <td>0</td>\n",
       "      <td>...</td>\n",
       "      <td>0</td>\n",
       "      <td>0</td>\n",
       "      <td>0</td>\n",
       "      <td>0</td>\n",
       "      <td>0</td>\n",
       "      <td>0</td>\n",
       "      <td>0</td>\n",
       "      <td>0</td>\n",
       "      <td>0</td>\n",
       "      <td>1</td>\n",
       "    </tr>\n",
       "    <tr>\n",
       "      <th>3</th>\n",
       "      <td>132.91</td>\n",
       "      <td>115.71</td>\n",
       "      <td>348.00</td>\n",
       "      <td>0.0500</td>\n",
       "      <td>8.0</td>\n",
       "      <td>No</td>\n",
       "      <td>2013.0</td>\n",
       "      <td>F</td>\n",
       "      <td>0</td>\n",
       "      <td>0</td>\n",
       "      <td>...</td>\n",
       "      <td>0</td>\n",
       "      <td>0</td>\n",
       "      <td>0</td>\n",
       "      <td>0</td>\n",
       "      <td>0</td>\n",
       "      <td>0</td>\n",
       "      <td>0</td>\n",
       "      <td>0</td>\n",
       "      <td>0</td>\n",
       "      <td>1</td>\n",
       "    </tr>\n",
       "    <tr>\n",
       "      <th>4</th>\n",
       "      <td>13.07</td>\n",
       "      <td>12.40</td>\n",
       "      <td>335.20</td>\n",
       "      <td>0.0020</td>\n",
       "      <td>24.0</td>\n",
       "      <td>No</td>\n",
       "      <td>1983.0</td>\n",
       "      <td>F</td>\n",
       "      <td>0</td>\n",
       "      <td>0</td>\n",
       "      <td>...</td>\n",
       "      <td>0</td>\n",
       "      <td>0</td>\n",
       "      <td>0</td>\n",
       "      <td>0</td>\n",
       "      <td>0</td>\n",
       "      <td>0</td>\n",
       "      <td>0</td>\n",
       "      <td>0</td>\n",
       "      <td>0</td>\n",
       "      <td>1</td>\n",
       "    </tr>\n",
       "  </tbody>\n",
       "</table>\n",
       "<p>5 rows × 28 columns</p>\n",
       "</div>"
      ],
      "text/plain": [
       "   UP_INV  DN_INV  PIPE_LENG  SLOPE_PCT  PIPE_SIZE REHAB  YEAR_INST  \\\n",
       "0   88.11   70.38     345.00     0.0520        8.0    No     1916.0   \n",
       "1  126.81  116.41     230.00     0.0460        8.0   Yes     1916.0   \n",
       "2  180.94  145.06     345.05     0.1052        8.0    No     1917.0   \n",
       "3  132.91  115.71     348.00     0.0500        8.0    No     2013.0   \n",
       "4   13.07   12.40     335.20     0.0020       24.0    No     1983.0   \n",
       "\n",
       "  PIPE_STATUS  PIPE_MAT_ABS  PIPE_MAT_ACP  ...  PIPE_MAT_PCP  PIPE_MAT_PEP  \\\n",
       "0           F             0             0  ...             0             0   \n",
       "1           F             0             0  ...             0             0   \n",
       "2           F             0             0  ...             0             0   \n",
       "3           F             0             0  ...             0             0   \n",
       "4           F             0             0  ...             0             0   \n",
       "\n",
       "   PIPE_MAT_PVC  PIPE_MAT_RCP  PIPE_MAT_RCPL  PIPE_MAT_STL  PIPE_MAT_TCP  \\\n",
       "0             0             0              0             0             0   \n",
       "1             0             0              0             0             0   \n",
       "2             0             0              0             0             0   \n",
       "3             0             0              0             0             0   \n",
       "4             0             0              0             0             0   \n",
       "\n",
       "   PIPE_MAT_TRS  PIPE_MAT_UNK  PIPE_MAT_VCP  \n",
       "0             0             0             1  \n",
       "1             0             0             1  \n",
       "2             0             0             1  \n",
       "3             0             0             1  \n",
       "4             0             0             1  \n",
       "\n",
       "[5 rows x 28 columns]"
      ]
     },
     "execution_count": 162,
     "metadata": {},
     "output_type": "execute_result"
    }
   ],
   "source": [
    "LA_data_df = pd.get_dummies(LA_data_df, columns=['PIPE_MAT'])\n",
    "LA_data_df.head()"
   ]
  },
  {
   "cell_type": "code",
   "execution_count": 163,
   "metadata": {},
   "outputs": [],
   "source": [
    "LA_data_df = pd.get_dummies(LA_data_df, columns=['PIPE_STATUS'])"
   ]
  },
  {
   "cell_type": "code",
   "execution_count": 164,
   "metadata": {},
   "outputs": [],
   "source": [
    "#convert target into numerical value\n",
    "LA_data_df['REHAB'] = LA_data_df.REHAB.astype(\"category\").cat.codes"
   ]
  },
  {
   "cell_type": "code",
   "execution_count": 165,
   "metadata": {},
   "outputs": [],
   "source": [
    "y = LA_data_df['REHAB']\n",
    "X = LA_data_df.drop(['REHAB'], axis=1)"
   ]
  },
  {
   "cell_type": "code",
   "execution_count": 64,
   "metadata": {},
   "outputs": [
    {
     "data": {
      "text/plain": [
       "(156510,)"
      ]
     },
     "execution_count": 64,
     "metadata": {},
     "output_type": "execute_result"
    }
   ],
   "source": [
    "y.shape"
   ]
  },
  {
   "cell_type": "code",
   "execution_count": 77,
   "metadata": {},
   "outputs": [
    {
     "data": {
      "text/plain": [
       "(156510, 36)"
      ]
     },
     "execution_count": 77,
     "metadata": {},
     "output_type": "execute_result"
    }
   ],
   "source": [
    "X.shape"
   ]
  },
  {
   "cell_type": "code",
   "execution_count": 166,
   "metadata": {},
   "outputs": [
    {
     "data": {
      "text/html": [
       "<div>\n",
       "<style scoped>\n",
       "    .dataframe tbody tr th:only-of-type {\n",
       "        vertical-align: middle;\n",
       "    }\n",
       "\n",
       "    .dataframe tbody tr th {\n",
       "        vertical-align: top;\n",
       "    }\n",
       "\n",
       "    .dataframe thead th {\n",
       "        text-align: right;\n",
       "    }\n",
       "</style>\n",
       "<table border=\"1\" class=\"dataframe\">\n",
       "  <thead>\n",
       "    <tr style=\"text-align: right;\">\n",
       "      <th></th>\n",
       "      <th>UP_INV</th>\n",
       "      <th>DN_INV</th>\n",
       "      <th>PIPE_LENG</th>\n",
       "      <th>SLOPE_PCT</th>\n",
       "      <th>PIPE_SIZE</th>\n",
       "      <th>REHAB</th>\n",
       "      <th>YEAR_INST</th>\n",
       "      <th>PIPE_MAT_ABS</th>\n",
       "      <th>PIPE_MAT_ACP</th>\n",
       "      <th>PIPE_MAT_B/C</th>\n",
       "      <th>...</th>\n",
       "      <th>PIPE_MAT_VCP</th>\n",
       "      <th>PIPE_STATUS_A</th>\n",
       "      <th>PIPE_STATUS_F</th>\n",
       "      <th>PIPE_STATUS_I</th>\n",
       "      <th>PIPE_STATUS_L</th>\n",
       "      <th>PIPE_STATUS_N</th>\n",
       "      <th>PIPE_STATUS_P</th>\n",
       "      <th>PIPE_STATUS_R</th>\n",
       "      <th>PIPE_STATUS_S</th>\n",
       "      <th>PIPE_STATUS_T</th>\n",
       "    </tr>\n",
       "  </thead>\n",
       "  <tbody>\n",
       "    <tr>\n",
       "      <th>0</th>\n",
       "      <td>88.11</td>\n",
       "      <td>70.38</td>\n",
       "      <td>345.00</td>\n",
       "      <td>0.0520</td>\n",
       "      <td>8.0</td>\n",
       "      <td>0</td>\n",
       "      <td>1916.0</td>\n",
       "      <td>0</td>\n",
       "      <td>0</td>\n",
       "      <td>0</td>\n",
       "      <td>...</td>\n",
       "      <td>1</td>\n",
       "      <td>0</td>\n",
       "      <td>1</td>\n",
       "      <td>0</td>\n",
       "      <td>0</td>\n",
       "      <td>0</td>\n",
       "      <td>0</td>\n",
       "      <td>0</td>\n",
       "      <td>0</td>\n",
       "      <td>0</td>\n",
       "    </tr>\n",
       "    <tr>\n",
       "      <th>1</th>\n",
       "      <td>126.81</td>\n",
       "      <td>116.41</td>\n",
       "      <td>230.00</td>\n",
       "      <td>0.0460</td>\n",
       "      <td>8.0</td>\n",
       "      <td>1</td>\n",
       "      <td>1916.0</td>\n",
       "      <td>0</td>\n",
       "      <td>0</td>\n",
       "      <td>0</td>\n",
       "      <td>...</td>\n",
       "      <td>1</td>\n",
       "      <td>0</td>\n",
       "      <td>1</td>\n",
       "      <td>0</td>\n",
       "      <td>0</td>\n",
       "      <td>0</td>\n",
       "      <td>0</td>\n",
       "      <td>0</td>\n",
       "      <td>0</td>\n",
       "      <td>0</td>\n",
       "    </tr>\n",
       "    <tr>\n",
       "      <th>2</th>\n",
       "      <td>180.94</td>\n",
       "      <td>145.06</td>\n",
       "      <td>345.05</td>\n",
       "      <td>0.1052</td>\n",
       "      <td>8.0</td>\n",
       "      <td>0</td>\n",
       "      <td>1917.0</td>\n",
       "      <td>0</td>\n",
       "      <td>0</td>\n",
       "      <td>0</td>\n",
       "      <td>...</td>\n",
       "      <td>1</td>\n",
       "      <td>0</td>\n",
       "      <td>1</td>\n",
       "      <td>0</td>\n",
       "      <td>0</td>\n",
       "      <td>0</td>\n",
       "      <td>0</td>\n",
       "      <td>0</td>\n",
       "      <td>0</td>\n",
       "      <td>0</td>\n",
       "    </tr>\n",
       "    <tr>\n",
       "      <th>3</th>\n",
       "      <td>132.91</td>\n",
       "      <td>115.71</td>\n",
       "      <td>348.00</td>\n",
       "      <td>0.0500</td>\n",
       "      <td>8.0</td>\n",
       "      <td>0</td>\n",
       "      <td>2013.0</td>\n",
       "      <td>0</td>\n",
       "      <td>0</td>\n",
       "      <td>0</td>\n",
       "      <td>...</td>\n",
       "      <td>1</td>\n",
       "      <td>0</td>\n",
       "      <td>1</td>\n",
       "      <td>0</td>\n",
       "      <td>0</td>\n",
       "      <td>0</td>\n",
       "      <td>0</td>\n",
       "      <td>0</td>\n",
       "      <td>0</td>\n",
       "      <td>0</td>\n",
       "    </tr>\n",
       "    <tr>\n",
       "      <th>4</th>\n",
       "      <td>13.07</td>\n",
       "      <td>12.40</td>\n",
       "      <td>335.20</td>\n",
       "      <td>0.0020</td>\n",
       "      <td>24.0</td>\n",
       "      <td>0</td>\n",
       "      <td>1983.0</td>\n",
       "      <td>0</td>\n",
       "      <td>0</td>\n",
       "      <td>0</td>\n",
       "      <td>...</td>\n",
       "      <td>1</td>\n",
       "      <td>0</td>\n",
       "      <td>1</td>\n",
       "      <td>0</td>\n",
       "      <td>0</td>\n",
       "      <td>0</td>\n",
       "      <td>0</td>\n",
       "      <td>0</td>\n",
       "      <td>0</td>\n",
       "      <td>0</td>\n",
       "    </tr>\n",
       "  </tbody>\n",
       "</table>\n",
       "<p>5 rows × 36 columns</p>\n",
       "</div>"
      ],
      "text/plain": [
       "   UP_INV  DN_INV  PIPE_LENG  SLOPE_PCT  PIPE_SIZE  REHAB  YEAR_INST  \\\n",
       "0   88.11   70.38     345.00     0.0520        8.0      0     1916.0   \n",
       "1  126.81  116.41     230.00     0.0460        8.0      1     1916.0   \n",
       "2  180.94  145.06     345.05     0.1052        8.0      0     1917.0   \n",
       "3  132.91  115.71     348.00     0.0500        8.0      0     2013.0   \n",
       "4   13.07   12.40     335.20     0.0020       24.0      0     1983.0   \n",
       "\n",
       "   PIPE_MAT_ABS  PIPE_MAT_ACP  PIPE_MAT_B/C  ...  PIPE_MAT_VCP  PIPE_STATUS_A  \\\n",
       "0             0             0             0  ...             1              0   \n",
       "1             0             0             0  ...             1              0   \n",
       "2             0             0             0  ...             1              0   \n",
       "3             0             0             0  ...             1              0   \n",
       "4             0             0             0  ...             1              0   \n",
       "\n",
       "   PIPE_STATUS_F  PIPE_STATUS_I  PIPE_STATUS_L  PIPE_STATUS_N  PIPE_STATUS_P  \\\n",
       "0              1              0              0              0              0   \n",
       "1              1              0              0              0              0   \n",
       "2              1              0              0              0              0   \n",
       "3              1              0              0              0              0   \n",
       "4              1              0              0              0              0   \n",
       "\n",
       "   PIPE_STATUS_R  PIPE_STATUS_S  PIPE_STATUS_T  \n",
       "0              0              0              0  \n",
       "1              0              0              0  \n",
       "2              0              0              0  \n",
       "3              0              0              0  \n",
       "4              0              0              0  \n",
       "\n",
       "[5 rows x 36 columns]"
      ]
     },
     "execution_count": 166,
     "metadata": {},
     "output_type": "execute_result"
    }
   ],
   "source": [
    "LA_data_df.head()"
   ]
  },
  {
   "cell_type": "code",
   "execution_count": 167,
   "metadata": {},
   "outputs": [
    {
     "data": {
      "text/plain": [
       "Index(['UP_INV', 'DN_INV', 'PIPE_LENG', 'SLOPE_PCT', 'PIPE_SIZE', 'YEAR_INST',\n",
       "       'PIPE_MAT_ABS', 'PIPE_MAT_ACP', 'PIPE_MAT_B/C', 'PIPE_MAT_CIP',\n",
       "       'PIPE_MAT_CIPC', 'PIPE_MAT_CMP', 'PIPE_MAT_CON', 'PIPE_MAT_DIP',\n",
       "       'PIPE_MAT_GFR', 'PIPE_MAT_HDPE', 'PIPE_MAT_PCP', 'PIPE_MAT_PEP',\n",
       "       'PIPE_MAT_PVC', 'PIPE_MAT_RCP', 'PIPE_MAT_RCPL', 'PIPE_MAT_STL',\n",
       "       'PIPE_MAT_TCP', 'PIPE_MAT_TRS', 'PIPE_MAT_UNK', 'PIPE_MAT_VCP',\n",
       "       'PIPE_STATUS_A', 'PIPE_STATUS_F', 'PIPE_STATUS_I', 'PIPE_STATUS_L',\n",
       "       'PIPE_STATUS_N', 'PIPE_STATUS_P', 'PIPE_STATUS_R', 'PIPE_STATUS_S',\n",
       "       'PIPE_STATUS_T'],\n",
       "      dtype='object')"
      ]
     },
     "execution_count": 167,
     "metadata": {},
     "output_type": "execute_result"
    }
   ],
   "source": [
    "X.columns"
   ]
  },
  {
   "cell_type": "code",
   "execution_count": null,
   "metadata": {},
   "outputs": [],
   "source": []
  },
  {
   "cell_type": "code",
   "execution_count": 246,
   "metadata": {},
   "outputs": [
    {
     "data": {
      "text/plain": [
       "'\\nfrom sklearn.manifold import Isomap\\nfrom sklearn.neural_network import MLPClassifier\\nfrom sklearn.model_selection import train_test_split\\nfrom sklearn.metrics import accuracy_score\\n\\nX_train, X_test, y_train, y_test = train_test_split (X, y, test_size = 0.3 , random_state=0)\\nmodel = MLPClassifier(solver=\\'lbfgs\\', activation=\\'relu\\', random_state=0,hidden_layer_sizes=[5,2])    \\nmodel.fit(X_train,y_train)\\n\\ny_train_hat = model.predict(X_train) #in-sample\\ny_test_hat = model.predict(X_test) #out-of-sample     \\n                      \\nin_sample_acc = accuracy_score(y_train, y_train_hat)\\nout_of_sample_acc = accuracy_score(y_test, y_test_hat)\\n\\nprint(\"Accuracy of in_sample data {}\".format(in_sample_acc))\\nprint(\"Accuracy of Out_of_sample data {}\".format(out_of_sample_acc));\\n'"
      ]
     },
     "execution_count": 246,
     "metadata": {},
     "output_type": "execute_result"
    }
   ],
   "source": [
    "#MLP\n",
    "\n",
    "'''\n",
    "from sklearn.manifold import Isomap\n",
    "from sklearn.neural_network import MLPClassifier\n",
    "from sklearn.model_selection import train_test_split\n",
    "from sklearn.metrics import accuracy_score\n",
    "\n",
    "X_train, X_test, y_train, y_test = train_test_split (X, y, test_size = 0.3 , random_state=0)\n",
    "model = MLPClassifier(solver='lbfgs', activation='relu', random_state=0,hidden_layer_sizes=[5,2])    \n",
    "model.fit(X_train,y_train)\n",
    "\n",
    "y_train_hat = model.predict(X_train) #in-sample\n",
    "y_test_hat = model.predict(X_test) #out-of-sample     \n",
    "                      \n",
    "in_sample_acc = accuracy_score(y_train, y_train_hat)\n",
    "out_of_sample_acc = accuracy_score(y_test, y_test_hat)\n",
    "\n",
    "print(\"Accuracy of in_sample data {}\".format(in_sample_acc))\n",
    "print(\"Accuracy of Out_of_sample data {}\".format(out_of_sample_acc));\n",
    "'''"
   ]
  },
  {
   "cell_type": "code",
   "execution_count": 247,
   "metadata": {},
   "outputs": [
    {
     "data": {
      "text/plain": [
       "'\\nfrom sklearn.linear_model import LogisticRegression\\nLogR = LogisticRegression(solver=\\'lbfgs\\', random_state=0)\\nLogR.fit(X_train, y_train)\\n\\ny_train_hat = LogR.predict(X_train)\\ny_test_hat = LogR.predict(X_test)\\n\\nin_sample_acc = accuracy_score(y_train, y_train_hat)\\nout_of_sample_acc = accuracy_score(y_test, y_test_hat)\\n\\nprint(\"Accuracy of in_sample data {}\".format(in_sample_acc))\\nprint(\"Accuracy of Out_of_sample data {}\".format(out_of_sample_acc));\\n'"
      ]
     },
     "execution_count": 247,
     "metadata": {},
     "output_type": "execute_result"
    }
   ],
   "source": [
    "# LogistRegression\n",
    "'''\n",
    "from sklearn.linear_model import LogisticRegression\n",
    "LogR = LogisticRegression(solver='lbfgs', random_state=0)\n",
    "LogR.fit(X_train, y_train)\n",
    "\n",
    "y_train_hat = LogR.predict(X_train)\n",
    "y_test_hat = LogR.predict(X_test)\n",
    "\n",
    "in_sample_acc = accuracy_score(y_train, y_train_hat)\n",
    "out_of_sample_acc = accuracy_score(y_test, y_test_hat)\n",
    "\n",
    "print(\"Accuracy of in_sample data {}\".format(in_sample_acc))\n",
    "print(\"Accuracy of Out_of_sample data {}\".format(out_of_sample_acc));\n",
    "'''"
   ]
  },
  {
   "cell_type": "code",
   "execution_count": 111,
   "metadata": {},
   "outputs": [
    {
     "name": "stdout",
     "output_type": "stream",
     "text": [
      "Accuracy of in_sample data 0.9998174466259573\n",
      "Accuracy of Out_of_sample data 0.9406214725363662\n"
     ]
    }
   ],
   "source": [
    "# random forest \n",
    "from sklearn.ensemble import RandomForestClassifier\n",
    "from sklearn.manifold import Isomap\n",
    "from sklearn.model_selection import train_test_split\n",
    "from sklearn.metrics import accuracy_score\n",
    "\n",
    "X_train, X_test, y_train, y_test = train_test_split (X, y, test_size = 0.3 , random_state=0)\n",
    "\n",
    "#initialize\n",
    "RFC = RandomForestClassifier(n_estimators=100)\n",
    "RFC.fit(X_train, y_train)\n",
    "\n",
    "y_train_hat = RFC.predict(X_train)\n",
    "y_test_hat = RFC.predict(X_test) #out-of-sample\n",
    "\n",
    "in_sample_acc = accuracy_score(y_train, y_train_hat)\n",
    "out_of_sample_acc = accuracy_score(y_test, y_test_hat)\n",
    "\n",
    "print(\"Accuracy of in_sample data {}\".format(in_sample_acc))\n",
    "print(\"Accuracy of Out_of_sample data {}\".format(out_of_sample_acc));"
   ]
  },
  {
   "cell_type": "code",
   "execution_count": 112,
   "metadata": {},
   "outputs": [
    {
     "name": "stdout",
     "output_type": "stream",
     "text": [
      "MAE = 0.05937852746363385\n",
      "MSE = 0.05937852746363385\n",
      "RMSE = 0.24367709671537424\n"
     ]
    }
   ],
   "source": [
    "from sklearn.metrics import mean_absolute_error, mean_squared_error\n",
    "MAE = mean_absolute_error(y_test,y_test_hat)\n",
    "MSE = mean_squared_error(y_test,y_test_hat)\n",
    "RMSE = np.sqrt(MSE)\n",
    "\n",
    "print(\"MAE = {}\".format(MAE))\n",
    "print(\"MSE = {}\".format(MSE))\n",
    "print(\"RMSE = {}\".format(RMSE))"
   ]
  },
  {
   "cell_type": "code",
   "execution_count": 180,
   "metadata": {},
   "outputs": [],
   "source": [
    "X.drop(['PIPE_STATUS_T'],axis=1, inplace=True)"
   ]
  },
  {
   "cell_type": "code",
   "execution_count": 237,
   "metadata": {},
   "outputs": [
    {
     "data": {
      "image/png": "[encoded data removed]",
      "text/plain": [
       "<Figure size 432x288 with 1 Axes>"
      ]
     },
     "metadata": {},
     "output_type": "display_data"
    }
   ],
   "source": [
    "from sklearn.ensemble import ExtraTreesClassifier\n",
    "import matplotlib.pyplot as plt\n",
    "model = ExtraTreesClassifier()\n",
    "model.fit(X,y)\n",
    "#print(model.feature_importances_) \n",
    "import seaborn as sns\n",
    "sns.set()\n",
    "plt.style.use('ggplot')\n",
    "feat_importances = pd.Series(model.feature_importances_, index=X.columns)\n",
    "feat_importances.nlargest(6).plot(kind='bar', cmap='plasma', grid=True)\n",
    "plt.title('Feature Importance Evaluation')\n",
    "plt.xlabel('Selected Features (Variables)')\n",
    "plt.margins(0.2)\n",
    "plt.ylabel('Percentage (%)')\n",
    "plt.subplots_adjust(bottom=0.30)\n",
    "plt.show();"
   ]
  },
  {
   "cell_type": "code",
   "execution_count": 202,
   "metadata": {},
   "outputs": [],
   "source": [
    "from sklearn.metrics import r2_score\n",
    "from rfpimp import permutation_importances\n",
    "\n",
    "def r2(RFC, X_train, y_train):\n",
    "    return r2_score(y_train, RFC.predict(X_train))\n",
    "\n",
    "perm_imp_rfpimp = permutation_importances(RFC, X_train, y_train, r2)"
   ]
  },
  {
   "cell_type": "code",
   "execution_count": null,
   "metadata": {},
   "outputs": [],
   "source": []
  },
  {
   "cell_type": "code",
   "execution_count": 76,
   "metadata": {},
   "outputs": [
    {
     "data": {
      "image/png": "\n",
      "text/plain": [
       "<IPython.core.display.Image object>"
      ]
     },
     "execution_count": 76,
     "metadata": {},
     "output_type": "execute_result"
    }
   ],
   "source": [
    "# Extract single tree\n",
    "estimator = RFC.estimators_[2]\n",
    "\n",
    "from sklearn.tree import export_graphviz\n",
    "import pydot\n",
    "\n",
    "export_graphviz(estimator,\n",
    "                feature_names=X.columns,\n",
    "                filled=True,\n",
    "                rounded=True)\n",
    "\n",
    "\n",
    "# Convert to png using system command (requires Graphviz)\n",
    "from subprocess import call\n",
    "call(['dot', '-Tpng', 'tree.dot', '-o', 'tree.png', '-Gdpi=600'])\n",
    "\n",
    "# Display in jupyter notebook\n",
    "from IPython.display import Image\n",
    "Image(filename = 'tree.png')"
   ]
  },
  {
   "cell_type": "code",
   "execution_count": 44,
   "metadata": {},
   "outputs": [
    {
     "name": "stdout",
     "output_type": "stream",
     "text": [
      "Cross Validation Scores for Random Forest: [0.94029326 0.93885375 0.93923711 0.93990799 0.9395227 ]\n",
      "Mean Accuracy Score for Random Forest: 0.9395629622991267\n"
     ]
    }
   ],
   "source": [
    "from sklearn.model_selection import StratifiedKFold\n",
    "\n",
    "cv = StratifiedKFold(n_splits=5, random_state=0, shuffle=True)\n",
    "accuracy_rfc = cross_val_score(RFC, X, y, cv=cv, scoring='accuracy')\n",
    "\n",
    "print(\"Cross Validation Scores for Random Forest: {}\".format(accuracy_rfc))\n",
    "print(\"Mean Accuracy Score for Random Forest: {}\".format(np.mean(accuracy_rfc)))"
   ]
  },
  {
   "cell_type": "code",
   "execution_count": 250,
   "metadata": {},
   "outputs": [
    {
     "name": "stdout",
     "output_type": "stream",
     "text": [
      "Best Parameter: {'n_estimators': 100}\n",
      "Best Cross Vlidation Score: 0.9306151645207439\n"
     ]
    }
   ],
   "source": [
    "from sklearn.model_selection import GridSearchCV\n",
    "\n",
    "param_grid = {'n_estimators': [10,20,30,40,50,100]}\n",
    "cv = StratifiedKFold(n_splits=5, random_state=0, shuffle=True)\n",
    "grid = GridSearchCV(RFC, param_grid, cv = cv, scoring='accuracy',\n",
    "                    return_train_score=True)\n",
    "grid.fit(X, y)\n",
    "\n",
    "print(\"Best Parameter: {}\".format(grid.best_params_))\n",
    "print(\"Best Cross Vlidation Score: {}\".format(grid.best_score_))"
   ]
  },
  {
   "cell_type": "code",
   "execution_count": 251,
   "metadata": {},
   "outputs": [
    {
     "name": "stdout",
     "output_type": "stream",
     "text": [
      "             precision    recall  f1-score   support\n",
      "\n",
      "          N       0.94      0.99      0.96     44207\n",
      "          Y       0.43      0.13      0.20      3186\n",
      "\n",
      "avg / total       0.91      0.93      0.91     47393\n",
      "\n"
     ]
    }
   ],
   "source": [
    "from sklearn.metrics import classification_report\n",
    "print(classification_report(y_test, y_test_hat))"
   ]
  },
  {
   "cell_type": "code",
   "execution_count": 370,
   "metadata": {},
   "outputs": [
    {
     "data": {
      "text/plain": [
       "array([[43624,   583],\n",
       "       [ 2755,   431]])"
      ]
     },
     "execution_count": 370,
     "metadata": {},
     "output_type": "execute_result"
    }
   ],
   "source": [
    "from sklearn.metrics import confusion_matrix\n",
    "confusion_matrix(y_test, y_test_hat)"
   ]
  },
  {
   "cell_type": "code",
   "execution_count": 52,
   "metadata": {},
   "outputs": [
    {
     "data": {
      "text/plain": [
       "array(['No', 'Yes'], dtype=object)"
      ]
     },
     "execution_count": 52,
     "metadata": {},
     "output_type": "execute_result"
    }
   ],
   "source": [
    "y_test.unique()"
   ]
  },
  {
   "cell_type": "code",
   "execution_count": 56,
   "metadata": {},
   "outputs": [],
   "source": [
    "y_test = y_test.astype(\"category\").cat.codes"
   ]
  },
  {
   "cell_type": "code",
   "execution_count": 57,
   "metadata": {},
   "outputs": [
    {
     "data": {
      "text/plain": [
       "array([0, 1])"
      ]
     },
     "execution_count": 57,
     "metadata": {},
     "output_type": "execute_result"
    }
   ],
   "source": [
    "y_test.unique()"
   ]
  },
  {
   "cell_type": "code",
   "execution_count": 46,
   "metadata": {},
   "outputs": [
    {
     "data": {
      "text/plain": [
       "array([[1.  , 0.  ],\n",
       "       [0.92, 0.08],\n",
       "       [0.86, 0.14],\n",
       "       ...,\n",
       "       [0.96, 0.04],\n",
       "       [0.95, 0.05],\n",
       "       [1.  , 0.  ]])"
      ]
     },
     "execution_count": 46,
     "metadata": {},
     "output_type": "execute_result"
    }
   ],
   "source": [
    " RFC.predict_proba(X_test)"
   ]
  },
  {
   "cell_type": "code",
   "execution_count": 79,
   "metadata": {},
   "outputs": [
    {
     "data": {
      "image/png": "[encoded data removed]",
      "text/plain": [
       "<Figure size 432x288 with 1 Axes>"
      ]
     },
     "metadata": {},
     "output_type": "display_data"
    }
   ],
   "source": [
    "from sklearn.metrics import roc_curve\n",
    "\n",
    "probs = RFC.predict_proba(X_test)\n",
    "preds = probs[:,1]\n",
    "\n",
    "fpr, tpr, thresholds = roc_curve(y_test, preds)\n",
    "\n",
    "plt.plot(fpr, tpr, label=\"ROC Curve\")\n",
    "plt.xlabel(\"FPR\")\n",
    "plt.title('ROC Curve')\n",
    "plt.ylabel(\"TPR (recall)\");"
   ]
  },
  {
   "cell_type": "code",
   "execution_count": 60,
   "metadata": {},
   "outputs": [
    {
     "data": {
      "image/png": "[encoded data removed]",
      "text/plain": [
       "<Figure size 432x288 with 1 Axes>"
      ]
     },
     "metadata": {
      "needs_background": "light"
     },
     "output_type": "display_data"
    }
   ],
   "source": [
    "import sklearn.metrics as metrics\n",
    "\n",
    "roc_auc = metrics.auc(fpr, tpr)\n",
    "plt.title('Receiver Operating Characteristic')\n",
    "plt.plot(fpr, tpr, 'b', label = 'AUC = %0.2f' % roc_auc)\n",
    "plt.legend(loc = 'lower right')\n",
    "plt.plot([0, 1], [0, 1],'r--')\n",
    "plt.xlim([0, 1])\n",
    "plt.ylim([0, 1])\n",
    "plt.ylabel('True Positive Rate')\n",
    "plt.xlabel('False Positive Rate')\n",
    "plt.show()"
   ]
  },
  {
   "cell_type": "code",
   "execution_count": 61,
   "metadata": {},
   "outputs": [
    {
     "name": "stdout",
     "output_type": "stream",
     "text": [
      "AUC for RFC: 0.800\n"
     ]
    }
   ],
   "source": [
    "from sklearn.metrics import roc_auc_score\n",
    "\n",
    "RFC_auc = roc_auc_score(y_test, RFC.predict_proba(X_test)[:,1]) \n",
    "print(\"AUC for RFC: {:.3f}\".format(RFC_auc))"
   ]
  },
  {
   "cell_type": "code",
   "execution_count": 412,
   "metadata": {
    "scrolled": true
   },
   "outputs": [
    {
     "name": "stdout",
     "output_type": "stream",
     "text": [
      "Epoch 1/2\n",
      "110581/110581 [==============================] - 23s 206us/step - loss: 0.5514 - accuracy: 0.9127\n",
      "Epoch 2/2\n",
      "110581/110581 [==============================] - 23s 211us/step - loss: 0.2131 - accuracy: 0.9355\n"
     ]
    },
    {
     "data": {
      "text/plain": [
       "<keras.callbacks.callbacks.History at 0x1a33d68f98>"
      ]
     },
     "execution_count": 412,
     "metadata": {},
     "output_type": "execute_result"
    }
   ],
   "source": [
    "from keras.models import Sequential\n",
    "from keras.layers import Dense\n",
    "\n",
    "# define the keras model\n",
    "model = Sequential()\n",
    "model.add(Dense(4, input_dim=43, activation='relu'))\n",
    "model.add(Dense(4, activation='relu'))\n",
    "model.add(Dense(4, activation='relu'))\n",
    "model.add(Dense(1, activation='sigmoid'))\n",
    "\n",
    "# compile the keras model\n",
    "model.compile(loss='binary_crossentropy', optimizer='adam', metrics=['accuracy'])\n",
    "\n",
    "# fit the keras model on the dataset\n",
    "model.fit(X_train, y_train, epochs=2, batch_size=10)\n",
    "\n",
    "\n",
    "# evaluate the keras model\n",
    "#accuracy = model.evaluate(X_test, y_test)\n",
    "#print(\"Accuracy: {}\".format(accuracy*100))"
   ]
  },
  {
   "cell_type": "code",
   "execution_count": null,
   "metadata": {},
   "outputs": [],
   "source": []
  }
 ],
 "metadata": {
  "kernelspec": {
   "display_name": "Python 3",
   "language": "python",
   "name": "python3"
  },
  "language_info": {
   "codemirror_mode": {
    "name": "ipython",
    "version": 3
   },
   "file_extension": ".py",
   "mimetype": "text/x-python",
   "name": "python",
   "nbconvert_exporter": "python",
   "pygments_lexer": "ipython3",
   "version": "3.6.8"
  }
 },
 "nbformat": 4,
 "nbformat_minor": 2
}
